{
 "cells": [
  {
   "cell_type": "markdown",
   "metadata": {},
   "source": [
    "# Introduction"
   ]
  },
  {
   "cell_type": "markdown",
   "metadata": {},
   "source": [
    "Zomato is an Indian restaurant search and discovery service founded in 2008 by Deepinder Goyal and Pankaj Chaddah. It currently operates in 24 countries. It provides information and reviews of restaurants, including images of menus where the restaurant does not have its own website and also online delivery."
   ]
  },
  {
   "cell_type": "markdown",
   "metadata": {},
   "source": [
    "# Aim"
   ]
  },
  {
   "cell_type": "markdown",
   "metadata": {},
   "source": [
    "Our main objective is to see if there is a significant difference between the rating of the restaurants which provide online food ordering option and those who don't. Along with that we will also try to bring out the best budget restaurant and worst fancy restaurants in the city. "
   ]
  },
  {
   "cell_type": "code",
   "execution_count": 1,
   "metadata": {},
   "outputs": [],
   "source": [
    "import pandas as pd\n",
    "import numpy as np\n",
    "import matplotlib.pyplot as plt\n",
    "import seaborn as sns"
   ]
  },
  {
   "cell_type": "code",
   "execution_count": 2,
   "metadata": {},
   "outputs": [],
   "source": [
    "data= pd.read_csv('zomato.csv')"
   ]
  },
  {
   "cell_type": "code",
   "execution_count": 3,
   "metadata": {},
   "outputs": [
    {
     "data": {
      "text/html": [
       "<div>\n",
       "<style scoped>\n",
       "    .dataframe tbody tr th:only-of-type {\n",
       "        vertical-align: middle;\n",
       "    }\n",
       "\n",
       "    .dataframe tbody tr th {\n",
       "        vertical-align: top;\n",
       "    }\n",
       "\n",
       "    .dataframe thead th {\n",
       "        text-align: right;\n",
       "    }\n",
       "</style>\n",
       "<table border=\"1\" class=\"dataframe\">\n",
       "  <thead>\n",
       "    <tr style=\"text-align: right;\">\n",
       "      <th></th>\n",
       "      <th>url</th>\n",
       "      <th>address</th>\n",
       "      <th>name</th>\n",
       "      <th>online_order</th>\n",
       "      <th>book_table</th>\n",
       "      <th>rate</th>\n",
       "      <th>votes</th>\n",
       "      <th>phone</th>\n",
       "      <th>location</th>\n",
       "      <th>rest_type</th>\n",
       "      <th>dish_liked</th>\n",
       "      <th>cuisines</th>\n",
       "      <th>approx_cost(for two people)</th>\n",
       "      <th>reviews_list</th>\n",
       "      <th>menu_item</th>\n",
       "      <th>listed_in(type)</th>\n",
       "      <th>listed_in(city)</th>\n",
       "    </tr>\n",
       "  </thead>\n",
       "  <tbody>\n",
       "    <tr>\n",
       "      <th>0</th>\n",
       "      <td>https://www.zomato.com/bangalore/jalsa-banasha...</td>\n",
       "      <td>942, 21st Main Road, 2nd Stage, Banashankari, ...</td>\n",
       "      <td>Jalsa</td>\n",
       "      <td>Yes</td>\n",
       "      <td>Yes</td>\n",
       "      <td>4.1/5</td>\n",
       "      <td>775</td>\n",
       "      <td>080 42297555\\r\\n+91 9743772233</td>\n",
       "      <td>Banashankari</td>\n",
       "      <td>Casual Dining</td>\n",
       "      <td>Pasta, Lunch Buffet, Masala Papad, Paneer Laja...</td>\n",
       "      <td>North Indian, Mughlai, Chinese</td>\n",
       "      <td>800</td>\n",
       "      <td>[('Rated 4.0', 'RATED\\n  A beautiful place to ...</td>\n",
       "      <td>[]</td>\n",
       "      <td>Buffet</td>\n",
       "      <td>Banashankari</td>\n",
       "    </tr>\n",
       "    <tr>\n",
       "      <th>1</th>\n",
       "      <td>https://www.zomato.com/bangalore/spice-elephan...</td>\n",
       "      <td>2nd Floor, 80 Feet Road, Near Big Bazaar, 6th ...</td>\n",
       "      <td>Spice Elephant</td>\n",
       "      <td>Yes</td>\n",
       "      <td>No</td>\n",
       "      <td>4.1/5</td>\n",
       "      <td>787</td>\n",
       "      <td>080 41714161</td>\n",
       "      <td>Banashankari</td>\n",
       "      <td>Casual Dining</td>\n",
       "      <td>Momos, Lunch Buffet, Chocolate Nirvana, Thai G...</td>\n",
       "      <td>Chinese, North Indian, Thai</td>\n",
       "      <td>800</td>\n",
       "      <td>[('Rated 4.0', 'RATED\\n  Had been here for din...</td>\n",
       "      <td>[]</td>\n",
       "      <td>Buffet</td>\n",
       "      <td>Banashankari</td>\n",
       "    </tr>\n",
       "    <tr>\n",
       "      <th>2</th>\n",
       "      <td>https://www.zomato.com/SanchurroBangalore?cont...</td>\n",
       "      <td>1112, Next to KIMS Medical College, 17th Cross...</td>\n",
       "      <td>San Churro Cafe</td>\n",
       "      <td>Yes</td>\n",
       "      <td>No</td>\n",
       "      <td>3.8/5</td>\n",
       "      <td>918</td>\n",
       "      <td>+91 9663487993</td>\n",
       "      <td>Banashankari</td>\n",
       "      <td>Cafe, Casual Dining</td>\n",
       "      <td>Churros, Cannelloni, Minestrone Soup, Hot Choc...</td>\n",
       "      <td>Cafe, Mexican, Italian</td>\n",
       "      <td>800</td>\n",
       "      <td>[('Rated 3.0', \"RATED\\n  Ambience is not that ...</td>\n",
       "      <td>[]</td>\n",
       "      <td>Buffet</td>\n",
       "      <td>Banashankari</td>\n",
       "    </tr>\n",
       "    <tr>\n",
       "      <th>3</th>\n",
       "      <td>https://www.zomato.com/bangalore/addhuri-udupi...</td>\n",
       "      <td>1st Floor, Annakuteera, 3rd Stage, Banashankar...</td>\n",
       "      <td>Addhuri Udupi Bhojana</td>\n",
       "      <td>No</td>\n",
       "      <td>No</td>\n",
       "      <td>3.7/5</td>\n",
       "      <td>88</td>\n",
       "      <td>+91 9620009302</td>\n",
       "      <td>Banashankari</td>\n",
       "      <td>Quick Bites</td>\n",
       "      <td>Masala Dosa</td>\n",
       "      <td>South Indian, North Indian</td>\n",
       "      <td>300</td>\n",
       "      <td>[('Rated 4.0', \"RATED\\n  Great food and proper...</td>\n",
       "      <td>[]</td>\n",
       "      <td>Buffet</td>\n",
       "      <td>Banashankari</td>\n",
       "    </tr>\n",
       "    <tr>\n",
       "      <th>4</th>\n",
       "      <td>https://www.zomato.com/bangalore/grand-village...</td>\n",
       "      <td>10, 3rd Floor, Lakshmi Associates, Gandhi Baza...</td>\n",
       "      <td>Grand Village</td>\n",
       "      <td>No</td>\n",
       "      <td>No</td>\n",
       "      <td>3.8/5</td>\n",
       "      <td>166</td>\n",
       "      <td>+91 8026612447\\r\\n+91 9901210005</td>\n",
       "      <td>Basavanagudi</td>\n",
       "      <td>Casual Dining</td>\n",
       "      <td>Panipuri, Gol Gappe</td>\n",
       "      <td>North Indian, Rajasthani</td>\n",
       "      <td>600</td>\n",
       "      <td>[('Rated 4.0', 'RATED\\n  Very good restaurant ...</td>\n",
       "      <td>[]</td>\n",
       "      <td>Buffet</td>\n",
       "      <td>Banashankari</td>\n",
       "    </tr>\n",
       "  </tbody>\n",
       "</table>\n",
       "</div>"
      ],
      "text/plain": [
       "                                                 url  \\\n",
       "0  https://www.zomato.com/bangalore/jalsa-banasha...   \n",
       "1  https://www.zomato.com/bangalore/spice-elephan...   \n",
       "2  https://www.zomato.com/SanchurroBangalore?cont...   \n",
       "3  https://www.zomato.com/bangalore/addhuri-udupi...   \n",
       "4  https://www.zomato.com/bangalore/grand-village...   \n",
       "\n",
       "                                             address                   name  \\\n",
       "0  942, 21st Main Road, 2nd Stage, Banashankari, ...                  Jalsa   \n",
       "1  2nd Floor, 80 Feet Road, Near Big Bazaar, 6th ...         Spice Elephant   \n",
       "2  1112, Next to KIMS Medical College, 17th Cross...        San Churro Cafe   \n",
       "3  1st Floor, Annakuteera, 3rd Stage, Banashankar...  Addhuri Udupi Bhojana   \n",
       "4  10, 3rd Floor, Lakshmi Associates, Gandhi Baza...          Grand Village   \n",
       "\n",
       "  online_order book_table   rate  votes                             phone  \\\n",
       "0          Yes        Yes  4.1/5    775    080 42297555\\r\\n+91 9743772233   \n",
       "1          Yes         No  4.1/5    787                      080 41714161   \n",
       "2          Yes         No  3.8/5    918                    +91 9663487993   \n",
       "3           No         No  3.7/5     88                    +91 9620009302   \n",
       "4           No         No  3.8/5    166  +91 8026612447\\r\\n+91 9901210005   \n",
       "\n",
       "       location            rest_type  \\\n",
       "0  Banashankari        Casual Dining   \n",
       "1  Banashankari        Casual Dining   \n",
       "2  Banashankari  Cafe, Casual Dining   \n",
       "3  Banashankari          Quick Bites   \n",
       "4  Basavanagudi        Casual Dining   \n",
       "\n",
       "                                          dish_liked  \\\n",
       "0  Pasta, Lunch Buffet, Masala Papad, Paneer Laja...   \n",
       "1  Momos, Lunch Buffet, Chocolate Nirvana, Thai G...   \n",
       "2  Churros, Cannelloni, Minestrone Soup, Hot Choc...   \n",
       "3                                        Masala Dosa   \n",
       "4                                Panipuri, Gol Gappe   \n",
       "\n",
       "                         cuisines approx_cost(for two people)  \\\n",
       "0  North Indian, Mughlai, Chinese                         800   \n",
       "1     Chinese, North Indian, Thai                         800   \n",
       "2          Cafe, Mexican, Italian                         800   \n",
       "3      South Indian, North Indian                         300   \n",
       "4        North Indian, Rajasthani                         600   \n",
       "\n",
       "                                        reviews_list menu_item  \\\n",
       "0  [('Rated 4.0', 'RATED\\n  A beautiful place to ...        []   \n",
       "1  [('Rated 4.0', 'RATED\\n  Had been here for din...        []   \n",
       "2  [('Rated 3.0', \"RATED\\n  Ambience is not that ...        []   \n",
       "3  [('Rated 4.0', \"RATED\\n  Great food and proper...        []   \n",
       "4  [('Rated 4.0', 'RATED\\n  Very good restaurant ...        []   \n",
       "\n",
       "  listed_in(type) listed_in(city)  \n",
       "0          Buffet    Banashankari  \n",
       "1          Buffet    Banashankari  \n",
       "2          Buffet    Banashankari  \n",
       "3          Buffet    Banashankari  \n",
       "4          Buffet    Banashankari  "
      ]
     },
     "execution_count": 3,
     "metadata": {},
     "output_type": "execute_result"
    }
   ],
   "source": [
    "data.head()"
   ]
  },
  {
   "cell_type": "code",
   "execution_count": 4,
   "metadata": {},
   "outputs": [
    {
     "name": "stdout",
     "output_type": "stream",
     "text": [
      "<class 'pandas.core.frame.DataFrame'>\n",
      "RangeIndex: 51717 entries, 0 to 51716\n",
      "Data columns (total 17 columns):\n",
      "url                            51717 non-null object\n",
      "address                        51717 non-null object\n",
      "name                           51717 non-null object\n",
      "online_order                   51717 non-null object\n",
      "book_table                     51717 non-null object\n",
      "rate                           43942 non-null object\n",
      "votes                          51717 non-null int64\n",
      "phone                          50509 non-null object\n",
      "location                       51696 non-null object\n",
      "rest_type                      51490 non-null object\n",
      "dish_liked                     23639 non-null object\n",
      "cuisines                       51672 non-null object\n",
      "approx_cost(for two people)    51371 non-null object\n",
      "reviews_list                   51717 non-null object\n",
      "menu_item                      51717 non-null object\n",
      "listed_in(type)                51717 non-null object\n",
      "listed_in(city)                51717 non-null object\n",
      "dtypes: int64(1), object(16)\n",
      "memory usage: 6.7+ MB\n"
     ]
    }
   ],
   "source": [
    "data.info()"
   ]
  },
  {
   "cell_type": "markdown",
   "metadata": {},
   "source": [
    "Around 15% of the values in rate column are missing, one reason for that could be that customers sometime don't rate food and services of the restaurants. We can replace the missing values with index interpolation or we can simply put mean rating for the restaurant in the missing blocks but I believe in this scenario dropping missing values is the best choice as we are dealing with food, a person is compelled to give review of a restaurnt if the service is excellent or if he finds service not up to the expectation. We want to consider these opinion in our analyses as we are targeting extreme good or bad."
   ]
  },
  {
   "cell_type": "code",
   "execution_count": 13,
   "metadata": {},
   "outputs": [],
   "source": [
    "data=data[data['rate'].notnull()]"
   ]
  },
  {
   "cell_type": "code",
   "execution_count": 14,
   "metadata": {},
   "outputs": [
    {
     "name": "stdout",
     "output_type": "stream",
     "text": [
      "<class 'pandas.core.frame.DataFrame'>\n",
      "Int64Index: 43942 entries, 0 to 51716\n",
      "Data columns (total 18 columns):\n",
      "url                            43942 non-null object\n",
      "address                        43942 non-null object\n",
      "name                           43942 non-null object\n",
      "online_order                   43942 non-null object\n",
      "book_table                     43942 non-null object\n",
      "rate                           43942 non-null object\n",
      "votes                          43942 non-null int64\n",
      "phone                          43110 non-null object\n",
      "location                       43942 non-null object\n",
      "rest_type                      43791 non-null object\n",
      "dish_liked                     23609 non-null object\n",
      "cuisines                       43931 non-null object\n",
      "approx_cost(for two people)    43690 non-null object\n",
      "reviews_list                   43942 non-null object\n",
      "menu_item                      43942 non-null object\n",
      "listed_in(type)                43942 non-null object\n",
      "listed_in(city)                43942 non-null object\n",
      "rating                         43942 non-null object\n",
      "dtypes: int64(1), object(17)\n",
      "memory usage: 6.4+ MB\n"
     ]
    }
   ],
   "source": [
    "data.info()"
   ]
  },
  {
   "cell_type": "code",
   "execution_count": 15,
   "metadata": {},
   "outputs": [],
   "source": [
    "data['rating']= data['rate'].str.split('/').str[0]"
   ]
  },
  {
   "cell_type": "code",
   "execution_count": 16,
   "metadata": {},
   "outputs": [],
   "source": [
    "new_data= data[~data['rating'].str.contains('NEW')]\n",
    "new_data= new_data[~new_data['rating'].str.contains('-')]\n"
   ]
  },
  {
   "cell_type": "code",
   "execution_count": 17,
   "metadata": {},
   "outputs": [],
   "source": [
    "new_data['rating']= new_data['rating'].str.strip().astype('float')"
   ]
  },
  {
   "cell_type": "code",
   "execution_count": 18,
   "metadata": {},
   "outputs": [
    {
     "data": {
      "text/plain": [
       "Cafe Coffee Day      86\n",
       "Onesta               85\n",
       "Empire Restaurant    69\n",
       "Kanti Sweets         68\n",
       "Five Star Chicken    68\n",
       "Name: name, dtype: int64"
      ]
     },
     "execution_count": 18,
     "metadata": {},
     "output_type": "execute_result"
    }
   ],
   "source": [
    "new_data['name'].value_counts()[:5]"
   ]
  },
  {
   "cell_type": "code",
   "execution_count": 19,
   "metadata": {},
   "outputs": [
    {
     "data": {
      "text/plain": [
       "name\n",
       "#FeelTheROLL                            3.4\n",
       "#L-81 Cafe                              3.9\n",
       "#refuel                                 3.7\n",
       "1000 B.C                                3.2\n",
       "100ÃÂÃÂÃÂÃÂÃÂÃÂÃÂÃÂ°C    3.7\n",
       "Name: rating, dtype: float64"
      ]
     },
     "execution_count": 19,
     "metadata": {},
     "output_type": "execute_result"
    }
   ],
   "source": [
    "new_data.groupby('name')['rating'].mean()[:5]"
   ]
  },
  {
   "cell_type": "markdown",
   "metadata": {},
   "source": [
    "Some restaurant names have series of unusual characters in them like 'Â', I think it is because their name is in regional language Kannada."
   ]
  },
  {
   "cell_type": "code",
   "execution_count": 20,
   "metadata": {},
   "outputs": [],
   "source": [
    "local_cuisine= new_data[new_data['name'].str.contains('Â')]"
   ]
  },
  {
   "cell_type": "code",
   "execution_count": 21,
   "metadata": {},
   "outputs": [
    {
     "data": {
      "text/plain": [
       "MG Road                  36\n",
       "Richmond Road            35\n",
       "Ulsoor                   31\n",
       "Residency Road           17\n",
       "Shivajinagar             16\n",
       "Koramangala 4th Block    15\n",
       "HSR                      12\n",
       "Indiranagar              12\n",
       "JP Nagar                 10\n",
       "Marathahalli              9\n",
       "Lavelle Road              9\n",
       "BTM                       9\n",
       "Shanti Nagar              8\n",
       "Bellandur                 7\n",
       "Koramangala 7th Block     6\n",
       "Kalyan Nagar              6\n",
       "Thippasandra              4\n",
       "Kumaraswamy Layout        3\n",
       "Vasanth Nagar             3\n",
       "Banashankari              3\n",
       "Hennur                    2\n",
       "New BEL Road              2\n",
       "Sarjapur Road             2\n",
       "Whitefield                2\n",
       "Name: location, dtype: int64"
      ]
     },
     "execution_count": 21,
     "metadata": {},
     "output_type": "execute_result"
    }
   ],
   "source": [
    "local_cuisine['location'].value_counts()"
   ]
  },
  {
   "cell_type": "markdown",
   "metadata": {},
   "source": [
    "Most of the ethnic restaurants are at MG Road."
   ]
  },
  {
   "cell_type": "code",
   "execution_count": 14,
   "metadata": {},
   "outputs": [
    {
     "data": {
      "text/plain": [
       "0.5894133175549588"
      ]
     },
     "execution_count": 14,
     "metadata": {},
     "output_type": "execute_result"
    }
   ],
   "source": []
  },
  {
   "cell_type": "code",
   "execution_count": 20,
   "metadata": {},
   "outputs": [],
   "source": [
    "new_data= new_data.drop(['menu_item','phone'],axis=1)"
   ]
  },
  {
   "cell_type": "code",
   "execution_count": 24,
   "metadata": {},
   "outputs": [
    {
     "data": {
      "text/plain": [
       "rest_type\n",
       "Bakery                             50.545455\n",
       "Bakery, Beverage Shop               4.000000\n",
       "Bakery, Cafe                      974.527778\n",
       "Bakery, Dessert Parlor             93.354331\n",
       "Bakery, Food Court                 23.000000\n",
       "Bakery, Quick Bites                52.500000\n",
       "Bar                               437.483871\n",
       "Bar, Casual Dining               1150.713924\n",
       "Bar, Lounge                       500.666667\n",
       "Bar, Pub                          641.000000\n",
       "Bar, Quick Bites                 1204.222222\n",
       "Beverage Shop                      47.042056\n",
       "Beverage Shop, Cafe                48.428571\n",
       "Beverage Shop, Dessert Parlor     122.600000\n",
       "Beverage Shop, Quick Bites        102.937500\n",
       "Bhojanalya                          6.000000\n",
       "Cafe                              427.074302\n",
       "Cafe, Bakery                      234.945205\n",
       "Cafe, Bar                         401.578947\n",
       "Cafe, Casual Dining              1952.329480\n",
       "Cafe, Dessert Parlor              380.173611\n",
       "Cafe, Food Court                   38.000000\n",
       "Cafe, Lounge                      372.333333\n",
       "Cafe, Quick Bites                 147.784946\n",
       "Casual Dining                     469.698312\n",
       "Casual Dining, Bar               1100.853153\n",
       "Casual Dining, Cafe              1662.742138\n",
       "Casual Dining, Irani Cafee       3686.600000\n",
       "Casual Dining, Lounge             201.300000\n",
       "Casual Dining, Microbrewery      2527.237288\n",
       "                                    ...     \n",
       "Lounge                           1070.574803\n",
       "Lounge, Bar                       235.055556\n",
       "Lounge, Cafe                     1767.875000\n",
       "Lounge, Casual Dining            1885.162162\n",
       "Lounge, Microbrewery             4653.000000\n",
       "Mess                               79.950820\n",
       "Microbrewery                     6904.035714\n",
       "Microbrewery, Bar                1234.000000\n",
       "Microbrewery, Casual Dining      1299.107438\n",
       "Microbrewery, Lounge             2225.777778\n",
       "Microbrewery, Pub                5504.452381\n",
       "Pub                              1143.514205\n",
       "Pub, Bar                          547.714286\n",
       "Pub, Cafe                        4472.875000\n",
       "Pub, Casual Dining                994.707627\n",
       "Pub, Microbrewery                4613.789474\n",
       "Quick Bites                       105.909997\n",
       "Quick Bites, Bakery                81.232558\n",
       "Quick Bites, Beverage Shop         65.361111\n",
       "Quick Bites, Cafe                  68.636364\n",
       "Quick Bites, Dessert Parlor       340.095890\n",
       "Quick Bites, Food Court           133.882353\n",
       "Quick Bites, Kiosk                 14.000000\n",
       "Quick Bites, Meat Shop             35.500000\n",
       "Quick Bites, Mess                  21.750000\n",
       "Quick Bites, Sweet Shop           108.853333\n",
       "Sweet Shop                         75.572254\n",
       "Sweet Shop, Quick Bites            96.707602\n",
       "Takeaway                           26.987952\n",
       "Takeaway, Delivery                 69.873065\n",
       "Name: votes, Length: 87, dtype: float64"
      ]
     },
     "execution_count": 24,
     "metadata": {},
     "output_type": "execute_result"
    }
   ],
   "source": [
    "new_data.groupby('rest_type')['votes'].mean()"
   ]
  },
  {
   "cell_type": "code",
   "execution_count": 23,
   "metadata": {},
   "outputs": [],
   "source": [
    "online= new_data.groupby('online_order').mean().reset_index(level=0)"
   ]
  },
  {
   "cell_type": "code",
   "execution_count": 28,
   "metadata": {},
   "outputs": [],
   "source": [
    "stand= new_data.groupby('online_order').std(ddof=1).reset_index(level=0)"
   ]
  },
  {
   "cell_type": "code",
   "execution_count": 29,
   "metadata": {},
   "outputs": [
    {
     "data": {
      "text/html": [
       "<div>\n",
       "<style scoped>\n",
       "    .dataframe tbody tr th:only-of-type {\n",
       "        vertical-align: middle;\n",
       "    }\n",
       "\n",
       "    .dataframe tbody tr th {\n",
       "        vertical-align: top;\n",
       "    }\n",
       "\n",
       "    .dataframe thead th {\n",
       "        text-align: right;\n",
       "    }\n",
       "</style>\n",
       "<table border=\"1\" class=\"dataframe\">\n",
       "  <thead>\n",
       "    <tr style=\"text-align: right;\">\n",
       "      <th></th>\n",
       "      <th>online_order</th>\n",
       "      <th>votes</th>\n",
       "      <th>rating</th>\n",
       "    </tr>\n",
       "  </thead>\n",
       "  <tbody>\n",
       "    <tr>\n",
       "      <th>0</th>\n",
       "      <td>No</td>\n",
       "      <td>1059.194811</td>\n",
       "      <td>0.467850</td>\n",
       "    </tr>\n",
       "    <tr>\n",
       "      <th>1</th>\n",
       "      <td>Yes</td>\n",
       "      <td>770.979241</td>\n",
       "      <td>0.423637</td>\n",
       "    </tr>\n",
       "  </tbody>\n",
       "</table>\n",
       "</div>"
      ],
      "text/plain": [
       "  online_order        votes    rating\n",
       "0           No  1059.194811  0.467850\n",
       "1          Yes   770.979241  0.423637"
      ]
     },
     "execution_count": 29,
     "metadata": {},
     "output_type": "execute_result"
    }
   ],
   "source": [
    "stand"
   ]
  },
  {
   "cell_type": "code",
   "execution_count": 30,
   "metadata": {},
   "outputs": [
    {
     "data": {
      "text/html": [
       "<div>\n",
       "<style scoped>\n",
       "    .dataframe tbody tr th:only-of-type {\n",
       "        vertical-align: middle;\n",
       "    }\n",
       "\n",
       "    .dataframe tbody tr th {\n",
       "        vertical-align: top;\n",
       "    }\n",
       "\n",
       "    .dataframe thead th {\n",
       "        text-align: right;\n",
       "    }\n",
       "</style>\n",
       "<table border=\"1\" class=\"dataframe\">\n",
       "  <thead>\n",
       "    <tr style=\"text-align: right;\">\n",
       "      <th></th>\n",
       "      <th>online_order</th>\n",
       "      <th>votes</th>\n",
       "      <th>rating</th>\n",
       "    </tr>\n",
       "  </thead>\n",
       "  <tbody>\n",
       "    <tr>\n",
       "      <th>0</th>\n",
       "      <td>No</td>\n",
       "      <td>367.504253</td>\n",
       "      <td>3.65907</td>\n",
       "    </tr>\n",
       "    <tr>\n",
       "      <th>1</th>\n",
       "      <td>Yes</td>\n",
       "      <td>343.228663</td>\n",
       "      <td>3.72244</td>\n",
       "    </tr>\n",
       "  </tbody>\n",
       "</table>\n",
       "</div>"
      ],
      "text/plain": [
       "  online_order       votes   rating\n",
       "0           No  367.504253  3.65907\n",
       "1          Yes  343.228663  3.72244"
      ]
     },
     "execution_count": 30,
     "metadata": {},
     "output_type": "execute_result"
    }
   ],
   "source": [
    "online"
   ]
  },
  {
   "cell_type": "code",
   "execution_count": 51,
   "metadata": {},
   "outputs": [],
   "source": [
    "def twoSampZ(X1, X2, sd1, sd2,mudiff, n1, n2):\n",
    "    from numpy import sqrt, abs, round\n",
    "    from scipy.stats import norm\n",
    "    pooledSE = sqrt((sd1**2)/n1 + (sd2**2)/n2)\n",
    "    z =abs( ((X1 - X2) - mudiff)/pooledSE )\n",
    "    pval = 2*(1 - norm.cdf(abs(z)))\n",
    "    return round(z,3), round(pval,4)"
   ]
  },
  {
   "cell_type": "code",
   "execution_count": 46,
   "metadata": {},
   "outputs": [],
   "source": [
    "\n",
    "N1= len(new_data[new_data['online_order']=='No'])\n",
    "N2= len(new_data[new_data['online_order']=='Yes'])"
   ]
  },
  {
   "cell_type": "code",
   "execution_count": 52,
   "metadata": {},
   "outputs": [
    {
     "data": {
      "text/plain": [
       "(13.593, 0.0)"
      ]
     },
     "execution_count": 52,
     "metadata": {},
     "output_type": "execute_result"
    }
   ],
   "source": [
    "twoSampZ(X1=3.65907,X2=3.72244,sd1=\t0.467850,sd2=0.423637,mudiff=0,n1=N1,n2=N2)"
   ]
  },
  {
   "cell_type": "markdown",
   "metadata": {},
   "source": [
    "The p-value suggests that are is a significant difference in the rating of restaurants which have online ordering available and those which don't have such a facility. "
   ]
  },
  {
   "cell_type": "code",
   "execution_count": 21,
   "metadata": {},
   "outputs": [
    {
     "name": "stdout",
     "output_type": "stream",
     "text": [
      "<class 'pandas.core.frame.DataFrame'>\n",
      "Int64Index: 41665 entries, 0 to 51716\n",
      "Data columns (total 17 columns):\n",
      "url                            41665 non-null object\n",
      "address                        41665 non-null object\n",
      "name                           41665 non-null object\n",
      "online_order                   41665 non-null object\n",
      "book_table                     41665 non-null object\n",
      "rate                           41665 non-null object\n",
      "votes                          41665 non-null int64\n",
      "phone                          40851 non-null object\n",
      "location                       41665 non-null object\n",
      "rest_type                      41516 non-null object\n",
      "dish_liked                     23462 non-null object\n",
      "cuisines                       41654 non-null object\n",
      "approx_cost(for two people)    41418 non-null object\n",
      "reviews_list                   41665 non-null object\n",
      "listed_in(type)                41665 non-null object\n",
      "listed_in(city)                41665 non-null object\n",
      "rating                         41665 non-null float64\n",
      "dtypes: float64(1), int64(1), object(15)\n",
      "memory usage: 5.7+ MB\n"
     ]
    }
   ],
   "source": [
    "new_data.info()"
   ]
  },
  {
   "cell_type": "code",
   "execution_count": 25,
   "metadata": {},
   "outputs": [],
   "source": [
    "new_data['approx_cost(for two people)']= new_data['approx_cost(for two people)'].str.replace(',','').dropna().astype('int')"
   ]
  },
  {
   "cell_type": "code",
   "execution_count": 26,
   "metadata": {},
   "outputs": [
    {
     "data": {
      "text/plain": [
       "<matplotlib.axes._subplots.AxesSubplot at 0xbcfbba8>"
      ]
     },
     "execution_count": 26,
     "metadata": {},
     "output_type": "execute_result"
    },
    {
     "data": {
      "image/png": "[encoded data removed]",
      "text/plain": [
       "<Figure size 720x720 with 1 Axes>"
      ]
     },
     "metadata": {},
     "output_type": "display_data"
    }
   ],
   "source": [
    "new_data['approx_cost(for two people)'].plot(figsize=(10,10))"
   ]
  },
  {
   "cell_type": "code",
   "execution_count": 72,
   "metadata": {},
   "outputs": [],
   "source": [
    "grouped_names= new_data.groupby('name').mean()"
   ]
  },
  {
   "cell_type": "code",
   "execution_count": 73,
   "metadata": {},
   "outputs": [
    {
     "data": {
      "text/html": [
       "<div>\n",
       "<style scoped>\n",
       "    .dataframe tbody tr th:only-of-type {\n",
       "        vertical-align: middle;\n",
       "    }\n",
       "\n",
       "    .dataframe tbody tr th {\n",
       "        vertical-align: top;\n",
       "    }\n",
       "\n",
       "    .dataframe thead th {\n",
       "        text-align: right;\n",
       "    }\n",
       "</style>\n",
       "<table border=\"1\" class=\"dataframe\">\n",
       "  <thead>\n",
       "    <tr style=\"text-align: right;\">\n",
       "      <th></th>\n",
       "      <th>votes</th>\n",
       "      <th>approx_cost(for two people)</th>\n",
       "      <th>rating</th>\n",
       "    </tr>\n",
       "    <tr>\n",
       "      <th>name</th>\n",
       "      <th></th>\n",
       "      <th></th>\n",
       "      <th></th>\n",
       "    </tr>\n",
       "  </thead>\n",
       "  <tbody>\n",
       "    <tr>\n",
       "      <th>#FeelTheROLL</th>\n",
       "      <td>7.000000</td>\n",
       "      <td>200.000000</td>\n",
       "      <td>3.400000</td>\n",
       "    </tr>\n",
       "    <tr>\n",
       "      <th>#L-81 Cafe</th>\n",
       "      <td>48.000000</td>\n",
       "      <td>400.000000</td>\n",
       "      <td>3.900000</td>\n",
       "    </tr>\n",
       "    <tr>\n",
       "      <th>#refuel</th>\n",
       "      <td>37.000000</td>\n",
       "      <td>400.000000</td>\n",
       "      <td>3.700000</td>\n",
       "    </tr>\n",
       "    <tr>\n",
       "      <th>1000 B.C</th>\n",
       "      <td>49.000000</td>\n",
       "      <td>300.000000</td>\n",
       "      <td>3.200000</td>\n",
       "    </tr>\n",
       "    <tr>\n",
       "      <th>100ÃÂÃÂÃÂÃÂÃÂÃÂÃÂÃÂ°C</th>\n",
       "      <td>41.000000</td>\n",
       "      <td>450.000000</td>\n",
       "      <td>3.700000</td>\n",
       "    </tr>\n",
       "    <tr>\n",
       "      <th>11 to 11 Express Biriyanis</th>\n",
       "      <td>22.000000</td>\n",
       "      <td>300.000000</td>\n",
       "      <td>3.500000</td>\n",
       "    </tr>\n",
       "    <tr>\n",
       "      <th>1131 Bar + Kitchen</th>\n",
       "      <td>2823.000000</td>\n",
       "      <td>1500.000000</td>\n",
       "      <td>4.500000</td>\n",
       "    </tr>\n",
       "    <tr>\n",
       "      <th>12th Main - Grand Mercure</th>\n",
       "      <td>354.100000</td>\n",
       "      <td>2000.000000</td>\n",
       "      <td>4.100000</td>\n",
       "    </tr>\n",
       "    <tr>\n",
       "      <th>1441 Pizzeria</th>\n",
       "      <td>132.800000</td>\n",
       "      <td>800.000000</td>\n",
       "      <td>4.100000</td>\n",
       "    </tr>\n",
       "    <tr>\n",
       "      <th>1522 - The Pub</th>\n",
       "      <td>1646.880000</td>\n",
       "      <td>1400.000000</td>\n",
       "      <td>4.212000</td>\n",
       "    </tr>\n",
       "    <tr>\n",
       "      <th>154 Breakfast Club</th>\n",
       "      <td>1514.125000</td>\n",
       "      <td>900.000000</td>\n",
       "      <td>4.000000</td>\n",
       "    </tr>\n",
       "    <tr>\n",
       "      <th>1722 Urban Bistro</th>\n",
       "      <td>222.090909</td>\n",
       "      <td>600.000000</td>\n",
       "      <td>4.100000</td>\n",
       "    </tr>\n",
       "    <tr>\n",
       "      <th>18+ Ice Cafe</th>\n",
       "      <td>24.166667</td>\n",
       "      <td>550.000000</td>\n",
       "      <td>3.500000</td>\n",
       "    </tr>\n",
       "    <tr>\n",
       "      <th>1947</th>\n",
       "      <td>1470.714286</td>\n",
       "      <td>946.428571</td>\n",
       "      <td>4.021429</td>\n",
       "    </tr>\n",
       "    <tr>\n",
       "      <th>1980s Games Cafe</th>\n",
       "      <td>58.000000</td>\n",
       "      <td>400.000000</td>\n",
       "      <td>3.400000</td>\n",
       "    </tr>\n",
       "    <tr>\n",
       "      <th>1992 Chats - Space</th>\n",
       "      <td>33.000000</td>\n",
       "      <td>200.000000</td>\n",
       "      <td>3.700000</td>\n",
       "    </tr>\n",
       "    <tr>\n",
       "      <th>1Q1</th>\n",
       "      <td>600.937500</td>\n",
       "      <td>2500.000000</td>\n",
       "      <td>4.300000</td>\n",
       "    </tr>\n",
       "    <tr>\n",
       "      <th>1TO3 Kitchen</th>\n",
       "      <td>11.000000</td>\n",
       "      <td>800.000000</td>\n",
       "      <td>3.100000</td>\n",
       "    </tr>\n",
       "    <tr>\n",
       "      <th>2 Statez</th>\n",
       "      <td>210.250000</td>\n",
       "      <td>600.000000</td>\n",
       "      <td>3.700000</td>\n",
       "    </tr>\n",
       "    <tr>\n",
       "      <th>20 Char - Sterlings MAC Hotel</th>\n",
       "      <td>423.000000</td>\n",
       "      <td>1400.000000</td>\n",
       "      <td>4.000000</td>\n",
       "    </tr>\n",
       "    <tr>\n",
       "      <th>20 Feet High</th>\n",
       "      <td>935.894737</td>\n",
       "      <td>1000.000000</td>\n",
       "      <td>4.000000</td>\n",
       "    </tr>\n",
       "    <tr>\n",
       "      <th>21 C - La Marvella Sarovar Premiere Hotel</th>\n",
       "      <td>15.000000</td>\n",
       "      <td>1000.000000</td>\n",
       "      <td>3.600000</td>\n",
       "    </tr>\n",
       "    <tr>\n",
       "      <th>24 Carats - The Capitol</th>\n",
       "      <td>46.000000</td>\n",
       "      <td>1000.000000</td>\n",
       "      <td>3.100000</td>\n",
       "    </tr>\n",
       "    <tr>\n",
       "      <th>24 Hours Cake Delivery</th>\n",
       "      <td>4.000000</td>\n",
       "      <td>700.000000</td>\n",
       "      <td>3.300000</td>\n",
       "    </tr>\n",
       "    <tr>\n",
       "      <th>24 Hours Coffee Drop - La Classic</th>\n",
       "      <td>9.000000</td>\n",
       "      <td>800.000000</td>\n",
       "      <td>3.400000</td>\n",
       "    </tr>\n",
       "    <tr>\n",
       "      <th>24/7 - The Lalit Ashok Bangalore</th>\n",
       "      <td>344.000000</td>\n",
       "      <td>3000.000000</td>\n",
       "      <td>4.000000</td>\n",
       "    </tr>\n",
       "    <tr>\n",
       "      <th>24/7 Food Service</th>\n",
       "      <td>7.000000</td>\n",
       "      <td>300.000000</td>\n",
       "      <td>2.950000</td>\n",
       "    </tr>\n",
       "    <tr>\n",
       "      <th>24@43 - The Oterra</th>\n",
       "      <td>268.000000</td>\n",
       "      <td>3000.000000</td>\n",
       "      <td>4.100000</td>\n",
       "    </tr>\n",
       "    <tr>\n",
       "      <th>24th Main</th>\n",
       "      <td>1237.200000</td>\n",
       "      <td>800.000000</td>\n",
       "      <td>4.100000</td>\n",
       "    </tr>\n",
       "    <tr>\n",
       "      <th>29 Degrees North</th>\n",
       "      <td>284.000000</td>\n",
       "      <td>250.000000</td>\n",
       "      <td>3.900000</td>\n",
       "    </tr>\n",
       "    <tr>\n",
       "      <th>...</th>\n",
       "      <td>...</td>\n",
       "      <td>...</td>\n",
       "      <td>...</td>\n",
       "    </tr>\n",
       "    <tr>\n",
       "      <th>Zayakedar</th>\n",
       "      <td>250.333333</td>\n",
       "      <td>250.000000</td>\n",
       "      <td>4.000000</td>\n",
       "    </tr>\n",
       "    <tr>\n",
       "      <th>Zayan Kabab Korner</th>\n",
       "      <td>38.000000</td>\n",
       "      <td>250.000000</td>\n",
       "      <td>3.800000</td>\n",
       "    </tr>\n",
       "    <tr>\n",
       "      <th>Zee5 Loft</th>\n",
       "      <td>448.100000</td>\n",
       "      <td>540.000000</td>\n",
       "      <td>4.400000</td>\n",
       "    </tr>\n",
       "    <tr>\n",
       "      <th>Zeee's</th>\n",
       "      <td>34.000000</td>\n",
       "      <td>300.000000</td>\n",
       "      <td>3.700000</td>\n",
       "    </tr>\n",
       "    <tr>\n",
       "      <th>Zeeshan</th>\n",
       "      <td>206.739130</td>\n",
       "      <td>682.608696</td>\n",
       "      <td>3.317391</td>\n",
       "    </tr>\n",
       "    <tr>\n",
       "      <th>Zen - The Leela Palace</th>\n",
       "      <td>246.000000</td>\n",
       "      <td>3500.000000</td>\n",
       "      <td>4.150000</td>\n",
       "    </tr>\n",
       "    <tr>\n",
       "      <th>Zengi Pub &amp; Restaurant</th>\n",
       "      <td>31.800000</td>\n",
       "      <td>900.000000</td>\n",
       "      <td>3.700000</td>\n",
       "    </tr>\n",
       "    <tr>\n",
       "      <th>Zephyr</th>\n",
       "      <td>133.000000</td>\n",
       "      <td>650.000000</td>\n",
       "      <td>3.900000</td>\n",
       "    </tr>\n",
       "    <tr>\n",
       "      <th>Zero Kelvin</th>\n",
       "      <td>169.000000</td>\n",
       "      <td>450.000000</td>\n",
       "      <td>4.300000</td>\n",
       "    </tr>\n",
       "    <tr>\n",
       "      <th>Zero Mile Punjab</th>\n",
       "      <td>1339.800000</td>\n",
       "      <td>800.000000</td>\n",
       "      <td>4.100000</td>\n",
       "    </tr>\n",
       "    <tr>\n",
       "      <th>Zhang's - Chinese Restaurant</th>\n",
       "      <td>588.625000</td>\n",
       "      <td>700.000000</td>\n",
       "      <td>4.100000</td>\n",
       "    </tr>\n",
       "    <tr>\n",
       "      <th>Zhangs Classic</th>\n",
       "      <td>170.000000</td>\n",
       "      <td>600.000000</td>\n",
       "      <td>2.600000</td>\n",
       "    </tr>\n",
       "    <tr>\n",
       "      <th>Zingron</th>\n",
       "      <td>513.818182</td>\n",
       "      <td>750.000000</td>\n",
       "      <td>4.009091</td>\n",
       "    </tr>\n",
       "    <tr>\n",
       "      <th>Ziyan's Cafe 27th</th>\n",
       "      <td>60.500000</td>\n",
       "      <td>300.000000</td>\n",
       "      <td>4.000000</td>\n",
       "    </tr>\n",
       "    <tr>\n",
       "      <th>Zodiac</th>\n",
       "      <td>62.666667</td>\n",
       "      <td>1500.000000</td>\n",
       "      <td>3.600000</td>\n",
       "    </tr>\n",
       "    <tr>\n",
       "      <th>Zodiac - Fortune Select JP Cosmos Hotel</th>\n",
       "      <td>91.000000</td>\n",
       "      <td>1800.000000</td>\n",
       "      <td>3.800000</td>\n",
       "    </tr>\n",
       "    <tr>\n",
       "      <th>Zodiac Grills</th>\n",
       "      <td>4.000000</td>\n",
       "      <td>500.000000</td>\n",
       "      <td>3.200000</td>\n",
       "    </tr>\n",
       "    <tr>\n",
       "      <th>Zoey's</th>\n",
       "      <td>897.142857</td>\n",
       "      <td>600.000000</td>\n",
       "      <td>4.300000</td>\n",
       "    </tr>\n",
       "    <tr>\n",
       "      <th>Zu's Doner Kebaps</th>\n",
       "      <td>23.833333</td>\n",
       "      <td>350.000000</td>\n",
       "      <td>3.616667</td>\n",
       "    </tr>\n",
       "    <tr>\n",
       "      <th>Zyara</th>\n",
       "      <td>191.000000</td>\n",
       "      <td>650.000000</td>\n",
       "      <td>3.875000</td>\n",
       "    </tr>\n",
       "    <tr>\n",
       "      <th>Zyksha</th>\n",
       "      <td>9.000000</td>\n",
       "      <td>200.000000</td>\n",
       "      <td>3.400000</td>\n",
       "    </tr>\n",
       "    <tr>\n",
       "      <th>alt</th>\n",
       "      <td>821.000000</td>\n",
       "      <td>1900.000000</td>\n",
       "      <td>4.100000</td>\n",
       "    </tr>\n",
       "    <tr>\n",
       "      <th>b CafÃÂÃÂÃÂÃÂÃÂÃÂÃÂÃÂÃÂÃÂÃÂÃÂÃÂÃÂÃÂÃÂ© - Shangri-La Hotel</th>\n",
       "      <td>429.000000</td>\n",
       "      <td>3400.000000</td>\n",
       "      <td>4.300000</td>\n",
       "    </tr>\n",
       "    <tr>\n",
       "      <th>de Ranthal</th>\n",
       "      <td>33.500000</td>\n",
       "      <td>300.000000</td>\n",
       "      <td>3.800000</td>\n",
       "    </tr>\n",
       "    <tr>\n",
       "      <th>eat.fit</th>\n",
       "      <td>647.106383</td>\n",
       "      <td>457.446809</td>\n",
       "      <td>4.378723</td>\n",
       "    </tr>\n",
       "    <tr>\n",
       "      <th>i-Bar - The Park Bangalore</th>\n",
       "      <td>619.727273</td>\n",
       "      <td>3000.000000</td>\n",
       "      <td>3.800000</td>\n",
       "    </tr>\n",
       "    <tr>\n",
       "      <th>iFruit Live Ice Creams</th>\n",
       "      <td>10.000000</td>\n",
       "      <td>300.000000</td>\n",
       "      <td>3.400000</td>\n",
       "    </tr>\n",
       "    <tr>\n",
       "      <th>iSpice Resto Cafe</th>\n",
       "      <td>30.142857</td>\n",
       "      <td>542.857143</td>\n",
       "      <td>3.700000</td>\n",
       "    </tr>\n",
       "    <tr>\n",
       "      <th>nu.tree</th>\n",
       "      <td>206.142857</td>\n",
       "      <td>400.000000</td>\n",
       "      <td>4.314286</td>\n",
       "    </tr>\n",
       "    <tr>\n",
       "      <th>re:cess - Hilton Bangalore Embassy GolfLinks</th>\n",
       "      <td>146.000000</td>\n",
       "      <td>1200.000000</td>\n",
       "      <td>4.100000</td>\n",
       "    </tr>\n",
       "  </tbody>\n",
       "</table>\n",
       "<p>6649 rows × 3 columns</p>\n",
       "</div>"
      ],
      "text/plain": [
       "                                                          votes  \\\n",
       "name                                                              \n",
       "#FeelTheROLL                                           7.000000   \n",
       "#L-81 Cafe                                            48.000000   \n",
       "#refuel                                               37.000000   \n",
       "1000 B.C                                              49.000000   \n",
       "100ÃÂÃÂÃÂÃÂÃÂÃÂÃÂÃÂ°C                  41.000000   \n",
       "11 to 11 Express Biriyanis                            22.000000   \n",
       "1131 Bar + Kitchen                                  2823.000000   \n",
       "12th Main - Grand Mercure                            354.100000   \n",
       "1441 Pizzeria                                        132.800000   \n",
       "1522 - The Pub                                      1646.880000   \n",
       "154 Breakfast Club                                  1514.125000   \n",
       "1722 Urban Bistro                                    222.090909   \n",
       "18+ Ice Cafe                                          24.166667   \n",
       "1947                                                1470.714286   \n",
       "1980s Games Cafe                                      58.000000   \n",
       "1992 Chats - Space                                    33.000000   \n",
       "1Q1                                                  600.937500   \n",
       "1TO3 Kitchen                                          11.000000   \n",
       "2 Statez                                             210.250000   \n",
       "20 Char - Sterlings MAC Hotel                        423.000000   \n",
       "20 Feet High                                         935.894737   \n",
       "21 C - La Marvella Sarovar Premiere Hotel             15.000000   \n",
       "24 Carats - The Capitol                               46.000000   \n",
       "24 Hours Cake Delivery                                 4.000000   \n",
       "24 Hours Coffee Drop - La Classic                      9.000000   \n",
       "24/7 - The Lalit Ashok Bangalore                     344.000000   \n",
       "24/7 Food Service                                      7.000000   \n",
       "24@43 - The Oterra                                   268.000000   \n",
       "24th Main                                           1237.200000   \n",
       "29 Degrees North                                     284.000000   \n",
       "...                                                         ...   \n",
       "Zayakedar                                            250.333333   \n",
       "Zayan Kabab Korner                                    38.000000   \n",
       "Zee5 Loft                                            448.100000   \n",
       "Zeee's                                                34.000000   \n",
       "Zeeshan                                              206.739130   \n",
       "Zen - The Leela Palace                               246.000000   \n",
       "Zengi Pub & Restaurant                                31.800000   \n",
       "Zephyr                                               133.000000   \n",
       "Zero Kelvin                                          169.000000   \n",
       "Zero Mile Punjab                                    1339.800000   \n",
       "Zhang's - Chinese Restaurant                         588.625000   \n",
       "Zhangs Classic                                       170.000000   \n",
       "Zingron                                              513.818182   \n",
       "Ziyan's Cafe 27th                                     60.500000   \n",
       "Zodiac                                                62.666667   \n",
       "Zodiac - Fortune Select JP Cosmos Hotel               91.000000   \n",
       "Zodiac Grills                                          4.000000   \n",
       "Zoey's                                               897.142857   \n",
       "Zu's Doner Kebaps                                     23.833333   \n",
       "Zyara                                                191.000000   \n",
       "Zyksha                                                 9.000000   \n",
       "alt                                                  821.000000   \n",
       "b CafÃÂÃÂÃÂÃÂÃÂÃÂÃÂÃÂÃÂÃÂÃ...   429.000000   \n",
       "de Ranthal                                            33.500000   \n",
       "eat.fit                                              647.106383   \n",
       "i-Bar - The Park Bangalore                           619.727273   \n",
       "iFruit Live Ice Creams                                10.000000   \n",
       "iSpice Resto Cafe                                     30.142857   \n",
       "nu.tree                                              206.142857   \n",
       "re:cess - Hilton Bangalore Embassy GolfLinks         146.000000   \n",
       "\n",
       "                                                    approx_cost(for two people)  \\\n",
       "name                                                                              \n",
       "#FeelTheROLL                                                         200.000000   \n",
       "#L-81 Cafe                                                           400.000000   \n",
       "#refuel                                                              400.000000   \n",
       "1000 B.C                                                             300.000000   \n",
       "100ÃÂÃÂÃÂÃÂÃÂÃÂÃÂÃÂ°C                                 450.000000   \n",
       "11 to 11 Express Biriyanis                                           300.000000   \n",
       "1131 Bar + Kitchen                                                  1500.000000   \n",
       "12th Main - Grand Mercure                                           2000.000000   \n",
       "1441 Pizzeria                                                        800.000000   \n",
       "1522 - The Pub                                                      1400.000000   \n",
       "154 Breakfast Club                                                   900.000000   \n",
       "1722 Urban Bistro                                                    600.000000   \n",
       "18+ Ice Cafe                                                         550.000000   \n",
       "1947                                                                 946.428571   \n",
       "1980s Games Cafe                                                     400.000000   \n",
       "1992 Chats - Space                                                   200.000000   \n",
       "1Q1                                                                 2500.000000   \n",
       "1TO3 Kitchen                                                         800.000000   \n",
       "2 Statez                                                             600.000000   \n",
       "20 Char - Sterlings MAC Hotel                                       1400.000000   \n",
       "20 Feet High                                                        1000.000000   \n",
       "21 C - La Marvella Sarovar Premiere Hotel                           1000.000000   \n",
       "24 Carats - The Capitol                                             1000.000000   \n",
       "24 Hours Cake Delivery                                               700.000000   \n",
       "24 Hours Coffee Drop - La Classic                                    800.000000   \n",
       "24/7 - The Lalit Ashok Bangalore                                    3000.000000   \n",
       "24/7 Food Service                                                    300.000000   \n",
       "24@43 - The Oterra                                                  3000.000000   \n",
       "24th Main                                                            800.000000   \n",
       "29 Degrees North                                                     250.000000   \n",
       "...                                                                         ...   \n",
       "Zayakedar                                                            250.000000   \n",
       "Zayan Kabab Korner                                                   250.000000   \n",
       "Zee5 Loft                                                            540.000000   \n",
       "Zeee's                                                               300.000000   \n",
       "Zeeshan                                                              682.608696   \n",
       "Zen - The Leela Palace                                              3500.000000   \n",
       "Zengi Pub & Restaurant                                               900.000000   \n",
       "Zephyr                                                               650.000000   \n",
       "Zero Kelvin                                                          450.000000   \n",
       "Zero Mile Punjab                                                     800.000000   \n",
       "Zhang's - Chinese Restaurant                                         700.000000   \n",
       "Zhangs Classic                                                       600.000000   \n",
       "Zingron                                                              750.000000   \n",
       "Ziyan's Cafe 27th                                                    300.000000   \n",
       "Zodiac                                                              1500.000000   \n",
       "Zodiac - Fortune Select JP Cosmos Hotel                             1800.000000   \n",
       "Zodiac Grills                                                        500.000000   \n",
       "Zoey's                                                               600.000000   \n",
       "Zu's Doner Kebaps                                                    350.000000   \n",
       "Zyara                                                                650.000000   \n",
       "Zyksha                                                               200.000000   \n",
       "alt                                                                 1900.000000   \n",
       "b CafÃÂÃÂÃÂÃÂÃÂÃÂÃÂÃÂÃÂÃÂÃ...                  3400.000000   \n",
       "de Ranthal                                                           300.000000   \n",
       "eat.fit                                                              457.446809   \n",
       "i-Bar - The Park Bangalore                                          3000.000000   \n",
       "iFruit Live Ice Creams                                               300.000000   \n",
       "iSpice Resto Cafe                                                    542.857143   \n",
       "nu.tree                                                              400.000000   \n",
       "re:cess - Hilton Bangalore Embassy GolfLinks                        1200.000000   \n",
       "\n",
       "                                                      rating  \n",
       "name                                                          \n",
       "#FeelTheROLL                                        3.400000  \n",
       "#L-81 Cafe                                          3.900000  \n",
       "#refuel                                             3.700000  \n",
       "1000 B.C                                            3.200000  \n",
       "100ÃÂÃÂÃÂÃÂÃÂÃÂÃÂÃÂ°C                3.700000  \n",
       "11 to 11 Express Biriyanis                          3.500000  \n",
       "1131 Bar + Kitchen                                  4.500000  \n",
       "12th Main - Grand Mercure                           4.100000  \n",
       "1441 Pizzeria                                       4.100000  \n",
       "1522 - The Pub                                      4.212000  \n",
       "154 Breakfast Club                                  4.000000  \n",
       "1722 Urban Bistro                                   4.100000  \n",
       "18+ Ice Cafe                                        3.500000  \n",
       "1947                                                4.021429  \n",
       "1980s Games Cafe                                    3.400000  \n",
       "1992 Chats - Space                                  3.700000  \n",
       "1Q1                                                 4.300000  \n",
       "1TO3 Kitchen                                        3.100000  \n",
       "2 Statez                                            3.700000  \n",
       "20 Char - Sterlings MAC Hotel                       4.000000  \n",
       "20 Feet High                                        4.000000  \n",
       "21 C - La Marvella Sarovar Premiere Hotel           3.600000  \n",
       "24 Carats - The Capitol                             3.100000  \n",
       "24 Hours Cake Delivery                              3.300000  \n",
       "24 Hours Coffee Drop - La Classic                   3.400000  \n",
       "24/7 - The Lalit Ashok Bangalore                    4.000000  \n",
       "24/7 Food Service                                   2.950000  \n",
       "24@43 - The Oterra                                  4.100000  \n",
       "24th Main                                           4.100000  \n",
       "29 Degrees North                                    3.900000  \n",
       "...                                                      ...  \n",
       "Zayakedar                                           4.000000  \n",
       "Zayan Kabab Korner                                  3.800000  \n",
       "Zee5 Loft                                           4.400000  \n",
       "Zeee's                                              3.700000  \n",
       "Zeeshan                                             3.317391  \n",
       "Zen - The Leela Palace                              4.150000  \n",
       "Zengi Pub & Restaurant                              3.700000  \n",
       "Zephyr                                              3.900000  \n",
       "Zero Kelvin                                         4.300000  \n",
       "Zero Mile Punjab                                    4.100000  \n",
       "Zhang's - Chinese Restaurant                        4.100000  \n",
       "Zhangs Classic                                      2.600000  \n",
       "Zingron                                             4.009091  \n",
       "Ziyan's Cafe 27th                                   4.000000  \n",
       "Zodiac                                              3.600000  \n",
       "Zodiac - Fortune Select JP Cosmos Hotel             3.800000  \n",
       "Zodiac Grills                                       3.200000  \n",
       "Zoey's                                              4.300000  \n",
       "Zu's Doner Kebaps                                   3.616667  \n",
       "Zyara                                               3.875000  \n",
       "Zyksha                                              3.400000  \n",
       "alt                                                 4.100000  \n",
       "b CafÃÂÃÂÃÂÃÂÃÂÃÂÃÂÃÂÃÂÃÂÃ...  4.300000  \n",
       "de Ranthal                                          3.800000  \n",
       "eat.fit                                             4.378723  \n",
       "i-Bar - The Park Bangalore                          3.800000  \n",
       "iFruit Live Ice Creams                              3.400000  \n",
       "iSpice Resto Cafe                                   3.700000  \n",
       "nu.tree                                             4.314286  \n",
       "re:cess - Hilton Bangalore Embassy GolfLinks        4.100000  \n",
       "\n",
       "[6649 rows x 3 columns]"
      ]
     },
     "execution_count": 73,
     "metadata": {},
     "output_type": "execute_result"
    }
   ],
   "source": [
    "grouped_names"
   ]
  },
  {
   "cell_type": "code",
   "execution_count": 75,
   "metadata": {},
   "outputs": [],
   "source": [
    "best_budget_restuarts= grouped_names[(grouped_names['approx_cost(for two people)'] < 500) & (grouped_names['rating']>4.5)]"
   ]
  },
  {
   "cell_type": "code",
   "execution_count": 76,
   "metadata": {},
   "outputs": [
    {
     "data": {
      "text/html": [
       "<div>\n",
       "<style scoped>\n",
       "    .dataframe tbody tr th:only-of-type {\n",
       "        vertical-align: middle;\n",
       "    }\n",
       "\n",
       "    .dataframe tbody tr th {\n",
       "        vertical-align: top;\n",
       "    }\n",
       "\n",
       "    .dataframe thead th {\n",
       "        text-align: right;\n",
       "    }\n",
       "</style>\n",
       "<table border=\"1\" class=\"dataframe\">\n",
       "  <thead>\n",
       "    <tr style=\"text-align: right;\">\n",
       "      <th></th>\n",
       "      <th>votes</th>\n",
       "      <th>approx_cost(for two people)</th>\n",
       "      <th>rating</th>\n",
       "    </tr>\n",
       "    <tr>\n",
       "      <th>name</th>\n",
       "      <th></th>\n",
       "      <th></th>\n",
       "      <th></th>\n",
       "    </tr>\n",
       "  </thead>\n",
       "  <tbody>\n",
       "    <tr>\n",
       "      <th>Belgian Waffle Factory</th>\n",
       "      <td>858.00</td>\n",
       "      <td>400.0</td>\n",
       "      <td>4.844828</td>\n",
       "    </tr>\n",
       "    <tr>\n",
       "      <th>CTR</th>\n",
       "      <td>4414.50</td>\n",
       "      <td>150.0</td>\n",
       "      <td>4.750000</td>\n",
       "    </tr>\n",
       "    <tr>\n",
       "      <th>Dock Frost'd</th>\n",
       "      <td>115.50</td>\n",
       "      <td>400.0</td>\n",
       "      <td>4.600000</td>\n",
       "    </tr>\n",
       "    <tr>\n",
       "      <th>Kurtoskalacs</th>\n",
       "      <td>284.20</td>\n",
       "      <td>390.0</td>\n",
       "      <td>4.620000</td>\n",
       "    </tr>\n",
       "    <tr>\n",
       "      <th>Milano Ice Cream</th>\n",
       "      <td>675.75</td>\n",
       "      <td>400.0</td>\n",
       "      <td>4.600000</td>\n",
       "    </tr>\n",
       "    <tr>\n",
       "      <th>Mugful Of Stories</th>\n",
       "      <td>274.00</td>\n",
       "      <td>300.0</td>\n",
       "      <td>4.600000</td>\n",
       "    </tr>\n",
       "    <tr>\n",
       "      <th>O.G. Variar &amp; Sons</th>\n",
       "      <td>1158.50</td>\n",
       "      <td>200.0</td>\n",
       "      <td>4.800000</td>\n",
       "    </tr>\n",
       "    <tr>\n",
       "      <th>Taaza Thindi</th>\n",
       "      <td>651.00</td>\n",
       "      <td>100.0</td>\n",
       "      <td>4.700000</td>\n",
       "    </tr>\n",
       "    <tr>\n",
       "      <th>The Blue Wagon - Kitchen</th>\n",
       "      <td>233.40</td>\n",
       "      <td>400.0</td>\n",
       "      <td>4.600000</td>\n",
       "    </tr>\n",
       "    <tr>\n",
       "      <th>The Pancake Story</th>\n",
       "      <td>119.50</td>\n",
       "      <td>300.0</td>\n",
       "      <td>4.600000</td>\n",
       "    </tr>\n",
       "  </tbody>\n",
       "</table>\n",
       "</div>"
      ],
      "text/plain": [
       "                            votes  approx_cost(for two people)    rating\n",
       "name                                                                    \n",
       "Belgian Waffle Factory     858.00                        400.0  4.844828\n",
       "CTR                       4414.50                        150.0  4.750000\n",
       "Dock Frost'd               115.50                        400.0  4.600000\n",
       "Kurtoskalacs               284.20                        390.0  4.620000\n",
       "Milano Ice Cream           675.75                        400.0  4.600000\n",
       "Mugful Of Stories          274.00                        300.0  4.600000\n",
       "O.G. Variar & Sons        1158.50                        200.0  4.800000\n",
       "Taaza Thindi               651.00                        100.0  4.700000\n",
       "The Blue Wagon - Kitchen   233.40                        400.0  4.600000\n",
       "The Pancake Story          119.50                        300.0  4.600000"
      ]
     },
     "execution_count": 76,
     "metadata": {},
     "output_type": "execute_result"
    }
   ],
   "source": [
    "best_budget_restuarts"
   ]
  },
  {
   "cell_type": "code",
   "execution_count": 80,
   "metadata": {},
   "outputs": [
    {
     "data": {
      "text/plain": [
       "<matplotlib.collections.PathCollection at 0x7a7d668>"
      ]
     },
     "execution_count": 80,
     "metadata": {},
     "output_type": "execute_result"
    },
    {
     "data": {
      "image/png": "[encoded data removed]",
      "text/plain": [
       "<Figure size 432x288 with 1 Axes>"
      ]
     },
     "metadata": {},
     "output_type": "display_data"
    }
   ],
   "source": [
    "plt.scatter(best_budget_restuarts['votes'].round(), best_budget_restuarts['rating'])"
   ]
  },
  {
   "cell_type": "markdown",
   "metadata": {},
   "source": [
    "CTR restaurant has a lots of votes. Considering the fact that mean value is highly sensitive to extreme value, the rating of restuarant suggests that the restuarant is consistently good and hosts a lot of guests."
   ]
  },
  {
   "cell_type": "code",
   "execution_count": 77,
   "metadata": {},
   "outputs": [],
   "source": [
    "worst_fancy_restuarts= grouped_names[(grouped_names['approx_cost(for two people)'] > 3000)& (grouped_names['rating']<3.5)]"
   ]
  },
  {
   "cell_type": "code",
   "execution_count": 78,
   "metadata": {},
   "outputs": [
    {
     "data": {
      "text/html": [
       "<div>\n",
       "<style scoped>\n",
       "    .dataframe tbody tr th:only-of-type {\n",
       "        vertical-align: middle;\n",
       "    }\n",
       "\n",
       "    .dataframe tbody tr th {\n",
       "        vertical-align: top;\n",
       "    }\n",
       "\n",
       "    .dataframe thead th {\n",
       "        text-align: right;\n",
       "    }\n",
       "</style>\n",
       "<table border=\"1\" class=\"dataframe\">\n",
       "  <thead>\n",
       "    <tr style=\"text-align: right;\">\n",
       "      <th></th>\n",
       "      <th>votes</th>\n",
       "      <th>approx_cost(for two people)</th>\n",
       "      <th>rating</th>\n",
       "    </tr>\n",
       "    <tr>\n",
       "      <th>name</th>\n",
       "      <th></th>\n",
       "      <th></th>\n",
       "      <th></th>\n",
       "    </tr>\n",
       "  </thead>\n",
       "  <tbody>\n",
       "    <tr>\n",
       "      <th>Grill 99 - The Ritz-Carlton</th>\n",
       "      <td>12.0</td>\n",
       "      <td>4000.0</td>\n",
       "      <td>3.44</td>\n",
       "    </tr>\n",
       "  </tbody>\n",
       "</table>\n",
       "</div>"
      ],
      "text/plain": [
       "                             votes  approx_cost(for two people)  rating\n",
       "name                                                                   \n",
       "Grill 99 - The Ritz-Carlton   12.0                       4000.0    3.44"
      ]
     },
     "execution_count": 78,
     "metadata": {},
     "output_type": "execute_result"
    }
   ],
   "source": [
    "worst_fancy_restuarts"
   ]
  },
  {
   "cell_type": "markdown",
   "metadata": {},
   "source": [
    "Indiranagar is one of the main I.T hubs in the state, I was keen to know what kind of restaurant attracts most number of guests there."
   ]
  },
  {
   "cell_type": "code",
   "execution_count": 31,
   "metadata": {},
   "outputs": [],
   "source": [
    "new= new_data[new_data['location']=='Indiranagar'][['rest_type','votes','rating','listed_in(type)']]"
   ]
  },
  {
   "cell_type": "code",
   "execution_count": 32,
   "metadata": {},
   "outputs": [],
   "source": [
    "Indira= new.groupby('listed_in(type)').mean()"
   ]
  },
  {
   "cell_type": "code",
   "execution_count": 33,
   "metadata": {},
   "outputs": [
    {
     "data": {
      "text/plain": [
       "votes     1999.916667\n",
       "rating       4.172222\n",
       "dtype: float64"
      ]
     },
     "execution_count": 33,
     "metadata": {},
     "output_type": "execute_result"
    }
   ],
   "source": [
    "Indira.max()"
   ]
  },
  {
   "cell_type": "code",
   "execution_count": 35,
   "metadata": {},
   "outputs": [
    {
     "data": {
      "text/html": [
       "<div>\n",
       "<style scoped>\n",
       "    .dataframe tbody tr th:only-of-type {\n",
       "        vertical-align: middle;\n",
       "    }\n",
       "\n",
       "    .dataframe tbody tr th {\n",
       "        vertical-align: top;\n",
       "    }\n",
       "\n",
       "    .dataframe thead th {\n",
       "        text-align: right;\n",
       "    }\n",
       "</style>\n",
       "<table border=\"1\" class=\"dataframe\">\n",
       "  <thead>\n",
       "    <tr style=\"text-align: right;\">\n",
       "      <th></th>\n",
       "      <th>votes</th>\n",
       "      <th>rating</th>\n",
       "    </tr>\n",
       "    <tr>\n",
       "      <th>listed_in(type)</th>\n",
       "      <th></th>\n",
       "      <th></th>\n",
       "    </tr>\n",
       "  </thead>\n",
       "  <tbody>\n",
       "    <tr>\n",
       "      <th>Buffet</th>\n",
       "      <td>1999.916667</td>\n",
       "      <td>4.172222</td>\n",
       "    </tr>\n",
       "  </tbody>\n",
       "</table>\n",
       "</div>"
      ],
      "text/plain": [
       "                       votes    rating\n",
       "listed_in(type)                       \n",
       "Buffet           1999.916667  4.172222"
      ]
     },
     "execution_count": 35,
     "metadata": {},
     "output_type": "execute_result"
    }
   ],
   "source": [
    "Indira[Indira['votes']>=1999]"
   ]
  },
  {
   "cell_type": "code",
   "execution_count": 97,
   "metadata": {},
   "outputs": [
    {
     "data": {
      "text/plain": [
       "1999.9166666666667"
      ]
     },
     "execution_count": 97,
     "metadata": {},
     "output_type": "execute_result"
    }
   ],
   "source": [
    "Indira['votes'].max()"
   ]
  },
  {
   "cell_type": "code",
   "execution_count": 108,
   "metadata": {},
   "outputs": [
    {
     "data": {
      "text/plain": [
       "<matplotlib.axes._subplots.AxesSubplot at 0x3046bb38>"
      ]
     },
     "execution_count": 108,
     "metadata": {},
     "output_type": "execute_result"
    },
    {
     "data": {
      "image/png": "[encoded data removed]",
      "text/plain": [
       "<Figure size 864x576 with 1 Axes>"
      ]
     },
     "metadata": {},
     "output_type": "display_data"
    }
   ],
   "source": [
    "plt.figure(figsize=(12,8))\n",
    "sns.barplot(Indira.index,Indira['votes'])"
   ]
  },
  {
   "cell_type": "markdown",
   "metadata": {},
   "source": [
    "This graph clearly shows where people like to hang out more in that area. Next to buffet people are mostly drawn towards the pub culture of the city."
   ]
  },
  {
   "cell_type": "code",
   "execution_count": null,
   "metadata": {},
   "outputs": [],
   "source": []
  }
 ],
 "metadata": {
  "kernelspec": {
   "display_name": "Python 3",
   "language": "python",
   "name": "python3"
  },
  "language_info": {
   "codemirror_mode": {
    "name": "ipython",
    "version": 3
   },
   "file_extension": ".py",
   "mimetype": "text/x-python",
   "name": "python",
   "nbconvert_exporter": "python",
   "pygments_lexer": "ipython3",
   "version": "3.6.5"
  }
 },
 "nbformat": 4,
 "nbformat_minor": 2
}
